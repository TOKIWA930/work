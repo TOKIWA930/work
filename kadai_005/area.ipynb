{
  "nbformat": 4,
  "nbformat_minor": 0,
  "metadata": {
    "colab": {
      "provenance": []
    },
    "kernelspec": {
      "name": "python3",
      "display_name": "Python 3"
    },
    "language_info": {
      "name": "python"
    }
  },
  "cells": [
    {
      "cell_type": "code",
      "execution_count": 1,
      "metadata": {
        "id": "F7LlDpBYDRJU"
      },
      "outputs": [],
      "source": [
        "#上辺：10cm\n",
        "#下辺：20cm\n",
        "#高さ：5cm\n",
        "\n",
        "#公式：台形の面積 =（上辺＋下辺）× 高さ ÷ 2"
      ]
    },
    {
      "cell_type": "code",
      "source": [
        "top =10\n",
        "bottom =20\n",
        "height =5\n",
        "area =(top+bottom)*height/2\n",
        "area1 =int(area)\n",
        "\n",
        "print(f\"{area1}cm²\")"
      ],
      "metadata": {
        "colab": {
          "base_uri": "https://localhost:8080/"
        },
        "id": "voQFdc-1Fd2j",
        "outputId": "8364cef7-3a27-481e-a353-cd137daaa801"
      },
      "execution_count": 10,
      "outputs": [
        {
          "output_type": "stream",
          "name": "stdout",
          "text": [
            "75cm²\n"
          ]
        }
      ]
    },
    {
      "cell_type": "code",
      "source": [
        "area =(10+20)*5/2\n",
        "print(f\"{area}cm²\")"
      ],
      "metadata": {
        "colab": {
          "base_uri": "https://localhost:8080/"
        },
        "id": "H_B3c3D1bZR-",
        "outputId": "ade032b5-4087-489e-bc93-3d2a6be2a48b"
      },
      "execution_count": 11,
      "outputs": [
        {
          "output_type": "stream",
          "name": "stdout",
          "text": [
            "75.0cm²\n"
          ]
        }
      ]
    }
  ]
}